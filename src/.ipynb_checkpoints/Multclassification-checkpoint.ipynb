{
 "cells": [
  {
   "cell_type": "code",
   "execution_count": 1,
   "id": "bcf9881c",
   "metadata": {},
   "outputs": [],
   "source": [
    "import pandas as pd\n",
    "import json \n",
    "\n",
    "with open('../datasets/genre.json') as f:\n",
    "    genres = json.load(f)\n",
    "\n",
    "with open('../datasets/genres_one.json') as f:\n",
    "    genres_one = json.load(f)\n",
    "    \n",
    "csvs = ['lyrics2.csv', 'lyrics3.csv']\n",
    "df = pd.read_csv('../datasets/lyrics1.csv')\n",
    "\n",
    "for csv in csvs:\n",
    "    df = df.append(pd.read_csv('../datasets/' + csv))"
   ]
  },
  {
   "cell_type": "code",
   "execution_count": 2,
   "id": "ca481a3d",
   "metadata": {},
   "outputs": [
    {
     "data": {
      "text/html": [
       "<div>\n",
       "<style scoped>\n",
       "    .dataframe tbody tr th:only-of-type {\n",
       "        vertical-align: middle;\n",
       "    }\n",
       "\n",
       "    .dataframe tbody tr th {\n",
       "        vertical-align: top;\n",
       "    }\n",
       "\n",
       "    .dataframe thead th {\n",
       "        text-align: right;\n",
       "    }\n",
       "</style>\n",
       "<table border=\"1\" class=\"dataframe\">\n",
       "  <thead>\n",
       "    <tr style=\"text-align: right;\">\n",
       "      <th></th>\n",
       "      <th>Unnamed: 0</th>\n",
       "      <th>artist</th>\n",
       "      <th>song</th>\n",
       "      <th>lyrics</th>\n",
       "      <th>genre</th>\n",
       "    </tr>\n",
       "  </thead>\n",
       "  <tbody>\n",
       "    <tr>\n",
       "      <th>0</th>\n",
       "      <td>0</td>\n",
       "      <td>03 greedo</td>\n",
       "      <td>sweet lady</td>\n",
       "      <td>its only one, 03, i'm from grape street, where...</td>\n",
       "      <td>hip hop</td>\n",
       "    </tr>\n",
       "    <tr>\n",
       "      <th>1</th>\n",
       "      <td>1</td>\n",
       "      <td>03 greedo</td>\n",
       "      <td>mafia business</td>\n",
       "      <td>you gonna make me put you in a suit and tie, s...</td>\n",
       "      <td>hip hop</td>\n",
       "    </tr>\n",
       "    <tr>\n",
       "      <th>2</th>\n",
       "      <td>2</td>\n",
       "      <td>03 greedo</td>\n",
       "      <td>paranoid</td>\n",
       "      <td>we could kill it, yeah, we could, we could, we...</td>\n",
       "      <td>hip hop</td>\n",
       "    </tr>\n",
       "    <tr>\n",
       "      <th>3</th>\n",
       "      <td>3</td>\n",
       "      <td>03 greedo</td>\n",
       "      <td>never bend</td>\n",
       "      <td>yeah, you lil bitch ass niggas steady speaking...</td>\n",
       "      <td>hip hop</td>\n",
       "    </tr>\n",
       "    <tr>\n",
       "      <th>4</th>\n",
       "      <td>4</td>\n",
       "      <td>03 greedo</td>\n",
       "      <td>prayer for my lost</td>\n",
       "      <td>x loaded up bro, never see me in the church, p...</td>\n",
       "      <td>hip hop</td>\n",
       "    </tr>\n",
       "  </tbody>\n",
       "</table>\n",
       "</div>"
      ],
      "text/plain": [
       "   Unnamed: 0     artist                song  \\\n",
       "0           0  03 greedo          sweet lady   \n",
       "1           1  03 greedo      mafia business   \n",
       "2           2  03 greedo            paranoid   \n",
       "3           3  03 greedo          never bend   \n",
       "4           4  03 greedo  prayer for my lost   \n",
       "\n",
       "                                              lyrics    genre  \n",
       "0  its only one, 03, i'm from grape street, where...  hip hop  \n",
       "1  you gonna make me put you in a suit and tie, s...  hip hop  \n",
       "2  we could kill it, yeah, we could, we could, we...  hip hop  \n",
       "3  yeah, you lil bitch ass niggas steady speaking...  hip hop  \n",
       "4  x loaded up bro, never see me in the church, p...  hip hop  "
      ]
     },
     "execution_count": 2,
     "metadata": {},
     "output_type": "execute_result"
    }
   ],
   "source": [
    "drop = set(genres.keys()).difference(set(genres_one.keys()))\n",
    "\n",
    "for k in drop:\n",
    "    df = df[df.artist != k]\n",
    "\n",
    "genre = []\n",
    "for _ , row in df.iterrows():\n",
    "    genre.append(genres_one[row['artist']])\n",
    "\n",
    "df[\"genre\"] = genre\n",
    "df.head()"
   ]
  },
  {
   "cell_type": "code",
   "execution_count": 3,
   "id": "90ae1c82",
   "metadata": {},
   "outputs": [
    {
     "data": {
      "text/html": [
       "<div>\n",
       "<style scoped>\n",
       "    .dataframe tbody tr th:only-of-type {\n",
       "        vertical-align: middle;\n",
       "    }\n",
       "\n",
       "    .dataframe tbody tr th {\n",
       "        vertical-align: top;\n",
       "    }\n",
       "\n",
       "    .dataframe thead th {\n",
       "        text-align: right;\n",
       "    }\n",
       "</style>\n",
       "<table border=\"1\" class=\"dataframe\">\n",
       "  <thead>\n",
       "    <tr style=\"text-align: right;\">\n",
       "      <th></th>\n",
       "      <th>genre</th>\n",
       "      <th>lyrics</th>\n",
       "      <th>category_id</th>\n",
       "    </tr>\n",
       "  </thead>\n",
       "  <tbody>\n",
       "    <tr>\n",
       "      <th>0</th>\n",
       "      <td>hip hop</td>\n",
       "      <td>its only one, 03, i'm from grape street, where...</td>\n",
       "      <td>0</td>\n",
       "    </tr>\n",
       "    <tr>\n",
       "      <th>1</th>\n",
       "      <td>hip hop</td>\n",
       "      <td>you gonna make me put you in a suit and tie, s...</td>\n",
       "      <td>0</td>\n",
       "    </tr>\n",
       "    <tr>\n",
       "      <th>2</th>\n",
       "      <td>hip hop</td>\n",
       "      <td>we could kill it, yeah, we could, we could, we...</td>\n",
       "      <td>0</td>\n",
       "    </tr>\n",
       "    <tr>\n",
       "      <th>3</th>\n",
       "      <td>hip hop</td>\n",
       "      <td>yeah, you lil bitch ass niggas steady speaking...</td>\n",
       "      <td>0</td>\n",
       "    </tr>\n",
       "    <tr>\n",
       "      <th>4</th>\n",
       "      <td>hip hop</td>\n",
       "      <td>x loaded up bro, never see me in the church, p...</td>\n",
       "      <td>0</td>\n",
       "    </tr>\n",
       "  </tbody>\n",
       "</table>\n",
       "</div>"
      ],
      "text/plain": [
       "     genre                                             lyrics  category_id\n",
       "0  hip hop  its only one, 03, i'm from grape street, where...            0\n",
       "1  hip hop  you gonna make me put you in a suit and tie, s...            0\n",
       "2  hip hop  we could kill it, yeah, we could, we could, we...            0\n",
       "3  hip hop  yeah, you lil bitch ass niggas steady speaking...            0\n",
       "4  hip hop  x loaded up bro, never see me in the church, p...            0"
      ]
     },
     "execution_count": 3,
     "metadata": {},
     "output_type": "execute_result"
    }
   ],
   "source": [
    "from io import StringIO\n",
    "col = ['genre', 'lyrics']\n",
    "df = df[col]\n",
    "df = df[pd.notnull(df['lyrics'])]\n",
    "df.columns = ['genre', 'lyrics']\n",
    "df['category_id'] = df['genre'].factorize()[0]\n",
    "category_id_df = df[['genre', 'category_id']].drop_duplicates().sort_values('category_id')\n",
    "category_to_id = dict(category_id_df.values)\n",
    "id_to_category = dict(category_id_df[['category_id', 'genre']].values)\n",
    "df.head()"
   ]
  },
  {
   "cell_type": "code",
   "execution_count": 4,
   "id": "c7b4f75e",
   "metadata": {},
   "outputs": [
    {
     "data": {
      "image/png": "[encoded data removed]",
      "text/plain": [
       "<Figure size 576x432 with 1 Axes>"
      ]
     },
     "metadata": {
      "needs_background": "light"
     },
     "output_type": "display_data"
    }
   ],
   "source": [
    "import matplotlib.pyplot as plt\n",
    "fig = plt.figure(figsize=(8,6))\n",
    "df.groupby('genre').lyrics.count().plot.bar(ylim=0)\n",
    "plt.show()"
   ]
  },
  {
   "cell_type": "code",
   "execution_count": null,
   "id": "7f97e31b",
   "metadata": {},
   "outputs": [],
   "source": [
    "from sklearn.feature_extraction.text import TfidfVectorizer\n",
    "tfidf = TfidfVectorizer(sublinear_tf=True, min_df=5, norm='l2', encoding='latin-1', ngram_range=(1, 2), stop_words='english')\n",
    "features = tfidf.fit_transform(df.lyrics).toarray()\n",
    "labels = df.category_id\n",
    "features.shape"
   ]
  },
  {
   "cell_type": "code",
   "execution_count": null,
   "id": "84f5ff76",
   "metadata": {},
   "outputs": [],
   "source": [
    "from sklearn.model_selection import train_test_split\n",
    "from sklearn.feature_extraction.text import CountVectorizer\n",
    "from sklearn.feature_extraction.text import TfidfTransformer\n",
    "from sklearn.naive_bayes import MultinomialNB\n",
    "\n",
    "X_train, X_test, y_train, y_test = train_test_split(df['lyrics'], df['genre'], random_state = 42)\n",
    "count_vect = CountVectorizer()\n",
    "X_train_counts = count_vect.fit_transform(X_train)\n",
    "tfidf_transformer = TfidfTransformer()\n",
    "X_train_tfidf = tfidf_transformer.fit_transform(X_train_counts)clf = MultinomialNB().fit(X_train_tfidf, y_train)"
   ]
  }
 ],
 "metadata": {
  "kernelspec": {
   "display_name": "Python 3 (ipykernel)",
   "language": "python",
   "name": "python3"
  },
  "language_info": {
   "codemirror_mode": {
    "name": "ipython",
    "version": 3
   },
   "file_extension": ".py",
   "mimetype": "text/x-python",
   "name": "python",
   "nbconvert_exporter": "python",
   "pygments_lexer": "ipython3",
   "version": "3.9.7"
  }
 },
 "nbformat": 4,
 "nbformat_minor": 5
}
