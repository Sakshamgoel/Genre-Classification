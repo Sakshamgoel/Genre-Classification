{
 "cells": [
  {
   "cell_type": "code",
   "execution_count": 53,
   "id": "88518174",
   "metadata": {},
   "outputs": [],
   "source": [
    "import json, re \n",
    "import pandas as pd\n",
    "from langdetect import detect\n",
    "\n",
    "with open('data/songs_w_lyrics.json', 'r') as f:\n",
    "    songs = json.load(f)"
   ]
  },
  {
   "cell_type": "code",
   "execution_count": 54,
   "id": "9bc0ad59",
   "metadata": {},
   "outputs": [
    {
     "name": "stdout",
     "output_type": "stream",
     "text": [
      "{'Rock': 1053, 'Pop': 676, 'Hip-Hop': 789, 'Metal': 892, 'Christian & Gospel': 977, 'Folk & Acoustic': 1009, 'Dance/Electronic': 452, 'R&B': 775, 'Country': 1040}\n"
     ]
    }
   ],
   "source": [
    "song_lens = {}\n",
    "max_len = -1\n",
    "\n",
    "for g in songs:\n",
    "    for t in songs[g]:\n",
    "        lang = detect(t[2].strip()) \n",
    "        if (lang != 'en'):\n",
    "            languages.add(lang)\n",
    "            songs[g].remove(t)\n",
    "            continue\n",
    "\n",
    "for g in songs:\n",
    "    if len(songs[g]) > max_len:\n",
    "        max_len = len(songs[g])\n",
    "    song_lens[g] = len(songs[g])\n",
    "    \n",
    "for g in songs:\n",
    "    c = 0\n",
    "    while (len(songs[g]) != max_len):\n",
    "        if (c == song_lens[g]):\n",
    "            c = 0\n",
    "        songs[g].append(songs[g][c])\n",
    "        c += 1"
   ]
  },
  {
   "cell_type": "code",
   "execution_count": 72,
   "id": "547a02b3",
   "metadata": {},
   "outputs": [],
   "source": [
    "data = {'artist': [], 'song': [], 'lyrics': [], 'genre': []}\n",
    "languages = set()\n",
    "\n",
    "for g in songs:\n",
    "    for (s, a, l) in songs[g]:\n",
    "        data['artist'].append(a)\n",
    "        data['song'].append(s)\n",
    "        \n",
    "        data['lyrics'].append(l)\n",
    "\n",
    "        data['genre'].append(g)\n",
    "\n",
    "df = pd.DataFrame.from_dict(data)"
   ]
  },
  {
   "cell_type": "code",
   "execution_count": 73,
   "id": "82719d90",
   "metadata": {},
   "outputs": [
    {
     "data": {
      "text/html": [
       "<div>\n",
       "<style scoped>\n",
       "    .dataframe tbody tr th:only-of-type {\n",
       "        vertical-align: middle;\n",
       "    }\n",
       "\n",
       "    .dataframe tbody tr th {\n",
       "        vertical-align: top;\n",
       "    }\n",
       "\n",
       "    .dataframe thead th {\n",
       "        text-align: right;\n",
       "    }\n",
       "</style>\n",
       "<table border=\"1\" class=\"dataframe\">\n",
       "  <thead>\n",
       "    <tr style=\"text-align: right;\">\n",
       "      <th></th>\n",
       "      <th>artist</th>\n",
       "      <th>song</th>\n",
       "      <th>lyrics</th>\n",
       "      <th>genre</th>\n",
       "    </tr>\n",
       "  </thead>\n",
       "  <tbody>\n",
       "    <tr>\n",
       "      <th>0</th>\n",
       "      <td>Sueco</td>\n",
       "      <td>Paralyzed</td>\n",
       "      <td>She got a big ego, you could see it on a teles...</td>\n",
       "      <td>Rock</td>\n",
       "    </tr>\n",
       "    <tr>\n",
       "      <th>1</th>\n",
       "      <td>Papa Roach</td>\n",
       "      <td>Kill The Noise</td>\n",
       "      <td>I just feel like I'm channeling something\\nKil...</td>\n",
       "      <td>Rock</td>\n",
       "    </tr>\n",
       "    <tr>\n",
       "      <th>2</th>\n",
       "      <td>Mammoth WVH</td>\n",
       "      <td>Don’t Back Down</td>\n",
       "      <td>Breathe it in\\nAll the madness around you\\nFee...</td>\n",
       "      <td>Rock</td>\n",
       "    </tr>\n",
       "    <tr>\n",
       "      <th>3</th>\n",
       "      <td>Foals</td>\n",
       "      <td>Wake Me Up</td>\n",
       "      <td>Wake me up\\nWake me up\\n\\nI'm walking through ...</td>\n",
       "      <td>Rock</td>\n",
       "    </tr>\n",
       "    <tr>\n",
       "      <th>4</th>\n",
       "      <td>Stand Atlantic</td>\n",
       "      <td>deathwish (feat. nothing,nowhere.)</td>\n",
       "      <td>You make my head spin\\nGod knows I can't win\\n...</td>\n",
       "      <td>Rock</td>\n",
       "    </tr>\n",
       "  </tbody>\n",
       "</table>\n",
       "</div>"
      ],
      "text/plain": [
       "           artist                                song  \\\n",
       "0           Sueco                           Paralyzed   \n",
       "1      Papa Roach                      Kill The Noise   \n",
       "2     Mammoth WVH                     Don’t Back Down   \n",
       "3           Foals                          Wake Me Up   \n",
       "4  Stand Atlantic  deathwish (feat. nothing,nowhere.)   \n",
       "\n",
       "                                              lyrics genre  \n",
       "0  She got a big ego, you could see it on a teles...  Rock  \n",
       "1  I just feel like I'm channeling something\\nKil...  Rock  \n",
       "2  Breathe it in\\nAll the madness around you\\nFee...  Rock  \n",
       "3  Wake me up\\nWake me up\\n\\nI'm walking through ...  Rock  \n",
       "4  You make my head spin\\nGod knows I can't win\\n...  Rock  "
      ]
     },
     "execution_count": 73,
     "metadata": {},
     "output_type": "execute_result"
    }
   ],
   "source": [
    "df.head()"
   ]
  }
 ],
 "metadata": {
  "kernelspec": {
   "display_name": "Python 3 (ipykernel)",
   "language": "python",
   "name": "python3"
  },
  "language_info": {
   "codemirror_mode": {
    "name": "ipython",
    "version": 3
   },
   "file_extension": ".py",
   "mimetype": "text/x-python",
   "name": "python",
   "nbconvert_exporter": "python",
   "pygments_lexer": "ipython3",
   "version": "3.8.10"
  }
 },
 "nbformat": 4,
 "nbformat_minor": 5
}
