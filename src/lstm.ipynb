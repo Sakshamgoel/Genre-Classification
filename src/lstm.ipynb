{
  "nbformat": 4,
  "nbformat_minor": 0,
  "metadata": {
    "colab": {
      "name": "lstm.ipynb",
      "provenance": [],
      "collapsed_sections": []
    },
    "kernelspec": {
      "name": "python3",
      "display_name": "Python 3"
    },
    "language_info": {
      "name": "python"
    }
  },
  "cells": [
    {
      "cell_type": "code",
      "metadata": {
        "colab": {
          "resources": {
            "http://localhost:8080/nbextensions/google.colab/files.js": {
              "data": "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",
              "ok": true,
              "headers": [
                [
                  "content-type",
                  "application/javascript"
                ]
              ],
              "status": 200,
              "status_text": ""
            }
          },
          "base_uri": "https://localhost:8080/",
          "height": 284
        },
        "id": "xWMCDVv5mNVf",
        "outputId": "d31edb4a-76c4-429c-af40-a14ced076c56"
      },
      "source": [
        "!pip install langdetect\n",
        "\n",
        "from google.colab import files\n",
        "\n",
        "uploaded = files.upload()"
      ],
      "execution_count": 1,
      "outputs": [
        {
          "output_type": "stream",
          "name": "stdout",
          "text": [
            "Collecting langdetect\n",
            "  Downloading langdetect-1.0.9.tar.gz (981 kB)\n",
            "\u001b[?25l\r\u001b[K     |▍                               | 10 kB 22.3 MB/s eta 0:00:01\r\u001b[K     |▊                               | 20 kB 29.2 MB/s eta 0:00:01\r\u001b[K     |█                               | 30 kB 26.9 MB/s eta 0:00:01\r\u001b[K     |█▍                              | 40 kB 19.7 MB/s eta 0:00:01\r\u001b[K     |█▊                              | 51 kB 17.8 MB/s eta 0:00:01\r\u001b[K     |██                              | 61 kB 14.0 MB/s eta 0:00:01\r\u001b[K     |██▍                             | 71 kB 13.8 MB/s eta 0:00:01\r\u001b[K     |██▊                             | 81 kB 15.0 MB/s eta 0:00:01\r\u001b[K     |███                             | 92 kB 15.0 MB/s eta 0:00:01\r\u001b[K     |███▍                            | 102 kB 14.9 MB/s eta 0:00:01\r\u001b[K     |███▊                            | 112 kB 14.9 MB/s eta 0:00:01\r\u001b[K     |████                            | 122 kB 14.9 MB/s eta 0:00:01\r\u001b[K     |████▍                           | 133 kB 14.9 MB/s eta 0:00:01\r\u001b[K     |████▊                           | 143 kB 14.9 MB/s eta 0:00:01\r\u001b[K     |█████                           | 153 kB 14.9 MB/s eta 0:00:01\r\u001b[K     |█████▍                          | 163 kB 14.9 MB/s eta 0:00:01\r\u001b[K     |█████▊                          | 174 kB 14.9 MB/s eta 0:00:01\r\u001b[K     |██████                          | 184 kB 14.9 MB/s eta 0:00:01\r\u001b[K     |██████▍                         | 194 kB 14.9 MB/s eta 0:00:01\r\u001b[K     |██████▊                         | 204 kB 14.9 MB/s eta 0:00:01\r\u001b[K     |███████                         | 215 kB 14.9 MB/s eta 0:00:01\r\u001b[K     |███████▍                        | 225 kB 14.9 MB/s eta 0:00:01\r\u001b[K     |███████▊                        | 235 kB 14.9 MB/s eta 0:00:01\r\u001b[K     |████████                        | 245 kB 14.9 MB/s eta 0:00:01\r\u001b[K     |████████▍                       | 256 kB 14.9 MB/s eta 0:00:01\r\u001b[K     |████████▊                       | 266 kB 14.9 MB/s eta 0:00:01\r\u001b[K     |█████████                       | 276 kB 14.9 MB/s eta 0:00:01\r\u001b[K     |█████████▍                      | 286 kB 14.9 MB/s eta 0:00:01\r\u001b[K     |█████████▊                      | 296 kB 14.9 MB/s eta 0:00:01\r\u001b[K     |██████████                      | 307 kB 14.9 MB/s eta 0:00:01\r\u001b[K     |██████████▍                     | 317 kB 14.9 MB/s eta 0:00:01\r\u001b[K     |██████████▊                     | 327 kB 14.9 MB/s eta 0:00:01\r\u001b[K     |███████████                     | 337 kB 14.9 MB/s eta 0:00:01\r\u001b[K     |███████████▍                    | 348 kB 14.9 MB/s eta 0:00:01\r\u001b[K     |███████████▊                    | 358 kB 14.9 MB/s eta 0:00:01\r\u001b[K     |████████████                    | 368 kB 14.9 MB/s eta 0:00:01\r\u001b[K     |████████████▍                   | 378 kB 14.9 MB/s eta 0:00:01\r\u001b[K     |████████████▊                   | 389 kB 14.9 MB/s eta 0:00:01\r\u001b[K     |█████████████                   | 399 kB 14.9 MB/s eta 0:00:01\r\u001b[K     |█████████████▍                  | 409 kB 14.9 MB/s eta 0:00:01\r\u001b[K     |█████████████▊                  | 419 kB 14.9 MB/s eta 0:00:01\r\u001b[K     |██████████████                  | 430 kB 14.9 MB/s eta 0:00:01\r\u001b[K     |██████████████▍                 | 440 kB 14.9 MB/s eta 0:00:01\r\u001b[K     |██████████████▊                 | 450 kB 14.9 MB/s eta 0:00:01\r\u001b[K     |███████████████                 | 460 kB 14.9 MB/s eta 0:00:01\r\u001b[K     |███████████████▍                | 471 kB 14.9 MB/s eta 0:00:01\r\u001b[K     |███████████████▊                | 481 kB 14.9 MB/s eta 0:00:01\r\u001b[K     |████████████████                | 491 kB 14.9 MB/s eta 0:00:01\r\u001b[K     |████████████████▍               | 501 kB 14.9 MB/s eta 0:00:01\r\u001b[K     |████████████████▊               | 512 kB 14.9 MB/s eta 0:00:01\r\u001b[K     |█████████████████               | 522 kB 14.9 MB/s eta 0:00:01\r\u001b[K     |█████████████████▍              | 532 kB 14.9 MB/s eta 0:00:01\r\u001b[K     |█████████████████▊              | 542 kB 14.9 MB/s eta 0:00:01\r\u001b[K     |██████████████████              | 552 kB 14.9 MB/s eta 0:00:01\r\u001b[K     |██████████████████▍             | 563 kB 14.9 MB/s eta 0:00:01\r\u001b[K     |██████████████████▊             | 573 kB 14.9 MB/s eta 0:00:01\r\u001b[K     |███████████████████             | 583 kB 14.9 MB/s eta 0:00:01\r\u001b[K     |███████████████████▍            | 593 kB 14.9 MB/s eta 0:00:01\r\u001b[K     |███████████████████▊            | 604 kB 14.9 MB/s eta 0:00:01\r\u001b[K     |████████████████████            | 614 kB 14.9 MB/s eta 0:00:01\r\u001b[K     |████████████████████▍           | 624 kB 14.9 MB/s eta 0:00:01\r\u001b[K     |████████████████████▊           | 634 kB 14.9 MB/s eta 0:00:01\r\u001b[K     |█████████████████████           | 645 kB 14.9 MB/s eta 0:00:01\r\u001b[K     |█████████████████████▍          | 655 kB 14.9 MB/s eta 0:00:01\r\u001b[K     |█████████████████████▊          | 665 kB 14.9 MB/s eta 0:00:01\r\u001b[K     |██████████████████████          | 675 kB 14.9 MB/s eta 0:00:01\r\u001b[K     |██████████████████████▍         | 686 kB 14.9 MB/s eta 0:00:01\r\u001b[K     |██████████████████████▊         | 696 kB 14.9 MB/s eta 0:00:01\r\u001b[K     |███████████████████████         | 706 kB 14.9 MB/s eta 0:00:01\r\u001b[K     |███████████████████████▍        | 716 kB 14.9 MB/s eta 0:00:01\r\u001b[K     |███████████████████████▊        | 727 kB 14.9 MB/s eta 0:00:01\r\u001b[K     |████████████████████████        | 737 kB 14.9 MB/s eta 0:00:01\r\u001b[K     |████████████████████████▍       | 747 kB 14.9 MB/s eta 0:00:01\r\u001b[K     |████████████████████████▊       | 757 kB 14.9 MB/s eta 0:00:01\r\u001b[K     |█████████████████████████       | 768 kB 14.9 MB/s eta 0:00:01\r\u001b[K     |█████████████████████████▍      | 778 kB 14.9 MB/s eta 0:00:01\r\u001b[K     |█████████████████████████▊      | 788 kB 14.9 MB/s eta 0:00:01\r\u001b[K     |██████████████████████████      | 798 kB 14.9 MB/s eta 0:00:01\r\u001b[K     |██████████████████████████▍     | 808 kB 14.9 MB/s eta 0:00:01\r\u001b[K     |██████████████████████████▊     | 819 kB 14.9 MB/s eta 0:00:01\r\u001b[K     |███████████████████████████     | 829 kB 14.9 MB/s eta 0:00:01\r\u001b[K     |███████████████████████████▍    | 839 kB 14.9 MB/s eta 0:00:01\r\u001b[K     |███████████████████████████▊    | 849 kB 14.9 MB/s eta 0:00:01\r\u001b[K     |████████████████████████████    | 860 kB 14.9 MB/s eta 0:00:01\r\u001b[K     |████████████████████████████▍   | 870 kB 14.9 MB/s eta 0:00:01\r\u001b[K     |████████████████████████████▊   | 880 kB 14.9 MB/s eta 0:00:01\r\u001b[K     |█████████████████████████████   | 890 kB 14.9 MB/s eta 0:00:01\r\u001b[K     |█████████████████████████████▍  | 901 kB 14.9 MB/s eta 0:00:01\r\u001b[K     |█████████████████████████████▊  | 911 kB 14.9 MB/s eta 0:00:01\r\u001b[K     |██████████████████████████████  | 921 kB 14.9 MB/s eta 0:00:01\r\u001b[K     |██████████████████████████████▍ | 931 kB 14.9 MB/s eta 0:00:01\r\u001b[K     |██████████████████████████████▊ | 942 kB 14.9 MB/s eta 0:00:01\r\u001b[K     |███████████████████████████████ | 952 kB 14.9 MB/s eta 0:00:01\r\u001b[K     |███████████████████████████████▍| 962 kB 14.9 MB/s eta 0:00:01\r\u001b[K     |███████████████████████████████▊| 972 kB 14.9 MB/s eta 0:00:01\r\u001b[K     |████████████████████████████████| 981 kB 14.9 MB/s \n",
            "\u001b[?25hRequirement already satisfied: six in /usr/local/lib/python3.7/dist-packages (from langdetect) (1.15.0)\n",
            "Building wheels for collected packages: langdetect\n",
            "  Building wheel for langdetect (setup.py) ... \u001b[?25l\u001b[?25hdone\n",
            "  Created wheel for langdetect: filename=langdetect-1.0.9-py3-none-any.whl size=993242 sha256=fbd3b6981e8bd404cb189a7be6e0cebc4a15654786e0510826ce3bda75a2444f\n",
            "  Stored in directory: /root/.cache/pip/wheels/c5/96/8a/f90c59ed25d75e50a8c10a1b1c2d4c402e4dacfa87f3aff36a\n",
            "Successfully built langdetect\n",
            "Installing collected packages: langdetect\n",
            "Successfully installed langdetect-1.0.9\n"
          ]
        },
        {
          "output_type": "display_data",
          "data": {
            "text/html": [
              "\n",
              "     <input type=\"file\" id=\"files-34902338-a495-4f82-aef3-65276777af53\" name=\"files[]\" multiple disabled\n",
              "        style=\"border:none\" />\n",
              "     <output id=\"result-34902338-a495-4f82-aef3-65276777af53\">\n",
              "      Upload widget is only available when the cell has been executed in the\n",
              "      current browser session. Please rerun this cell to enable.\n",
              "      </output>\n",
              "      <script src=\"/nbextensions/google.colab/files.js\"></script> "
            ],
            "text/plain": [
              "<IPython.core.display.HTML object>"
            ]
          },
          "metadata": {}
        },
        {
          "output_type": "stream",
          "name": "stdout",
          "text": [
            "Saving songs_w_lyrics.json to songs_w_lyrics.json\n"
          ]
        }
      ]
    },
    {
      "cell_type": "code",
      "metadata": {
        "id": "-n6ytHnMm14m",
        "colab": {
          "base_uri": "https://localhost:8080/"
        },
        "outputId": "6fd80d4d-51d0-4ccd-e82c-63a9e3b5106a"
      },
      "source": [
        "import json, langdetect\n",
        "import pandas as pd\n",
        "\n",
        "with open('songs_w_lyrics.json', 'r') as f: \n",
        "    songs = json.load(f)\n",
        "\n",
        "song_lens = {}\n",
        "max_len = -1\n",
        "y = []\n",
        "X = []\n",
        "\n",
        "for g in songs:\n",
        "    for t in songs[g]:\n",
        "        lang = langdetect.detect(t[2].strip()) \n",
        "        if (lang != 'en'):\n",
        "            songs[g].remove(t)\n",
        "            continue\n",
        "\n",
        "for g in songs:\n",
        "    if len(songs[g]) > max_len:\n",
        "        max_len = len(songs[g])\n",
        "    song_lens[g] = len(songs[g])\n",
        "    \n",
        "for g in songs:\n",
        "    c = 0\n",
        "    while (len(songs[g]) != max_len):\n",
        "        if (c == song_lens[g]):\n",
        "            c = 0\n",
        "        songs[g].append(songs[g][c])\n",
        "        c += 1\n",
        "\n",
        "data = {'artist': [], 'song': [], 'lyrics': [], 'genre': []}\n",
        "\n",
        "for g in songs:\n",
        "    for (s, a, l) in songs[g]:\n",
        "        data['artist'].append(a)\n",
        "        data['song'].append(s)\n",
        "        \n",
        "        data['lyrics'].append(l)\n",
        "        data['genre'].append(g)\n",
        "\n",
        "df = pd.DataFrame.from_dict(data)\n",
        "\n",
        "df.describe()\n",
        "df.head()\n",
        "\n",
        "df.columns\n",
        "\n",
        "df['genre'].value_counts()"
      ],
      "execution_count": 3,
      "outputs": [
        {
          "output_type": "execute_result",
          "data": {
            "text/plain": [
              "R&B                   1055\n",
              "Country               1055\n",
              "Pop                   1055\n",
              "Dance/Electronic      1055\n",
              "Metal                 1055\n",
              "Christian & Gospel    1055\n",
              "Folk & Acoustic       1055\n",
              "Hip-Hop               1055\n",
              "Rock                  1055\n",
              "Name: genre, dtype: int64"
            ]
          },
          "metadata": {},
          "execution_count": 3
        }
      ]
    },
    {
      "cell_type": "code",
      "metadata": {
        "colab": {
          "base_uri": "https://localhost:8080/"
        },
        "id": "KM7LG_xfobr3",
        "outputId": "3c0099ac-0a19-4f1b-c11b-856d88cae0a9"
      },
      "source": [
        "import re, nltk\n",
        "nltk.download('stopwords')\n",
        "from nltk.corpus import stopwords\n",
        "\n",
        "REPLACE_BY_SPACE_RE = re.compile('[/(){}\\[\\]\\|@,;]')\n",
        "BAD_SYMBOLS_RE = re.compile('[^0-9a-z #+_]')\n",
        "STOPWORDS = set(stopwords.words('english'))\n",
        "\n",
        "def clean_text(text):\n",
        "    \"\"\"\n",
        "        text: a string\n",
        "        \n",
        "        return: modified initial string\n",
        "    \"\"\"\n",
        "    text = text.lower() # lowercase text\n",
        "    text.replace('\\n', ' ')\n",
        "    text = REPLACE_BY_SPACE_RE.sub(' ', text) # replace REPLACE_BY_SPACE_RE symbols by space in text. substitute the matched string in REPLACE_BY_SPACE_RE with space.\n",
        "    text = BAD_SYMBOLS_RE.sub(' ', text) # remove symbols which are in BAD_SYMBOLS_RE from text. substitute the matched string in BAD_SYMBOLS_RE with nothing. \n",
        "#    text = re.sub(r'\\W+', '', text)\n",
        "    text = ' '.join(word for word in text.split() if word not in STOPWORDS) # remove stopwors from text\n",
        "    return text"
      ],
      "execution_count": 4,
      "outputs": [
        {
          "output_type": "stream",
          "name": "stdout",
          "text": [
            "[nltk_data] Downloading package stopwords to /root/nltk_data...\n",
            "[nltk_data]   Unzipping corpora/stopwords.zip.\n"
          ]
        }
      ]
    },
    {
      "cell_type": "code",
      "metadata": {
        "id": "dpLE_fGtrXEZ"
      },
      "source": [
        "df['lyrics'] = df['lyrics'].apply(clean_text)\n",
        "#df['lyrics'] = df['lyrics'].str.replace('\\d+', ' ')"
      ],
      "execution_count": 5,
      "outputs": []
    },
    {
      "cell_type": "code",
      "metadata": {
        "colab": {
          "base_uri": "https://localhost:8080/",
          "height": 206
        },
        "id": "cU1oUCi-ruNN",
        "outputId": "4a192824-385d-496c-bbaf-dd8de01e39df"
      },
      "source": [
        "df.head()"
      ],
      "execution_count": null,
      "outputs": [
        {
          "output_type": "execute_result",
          "data": {
            "text/html": [
              "<div>\n",
              "<style scoped>\n",
              "    .dataframe tbody tr th:only-of-type {\n",
              "        vertical-align: middle;\n",
              "    }\n",
              "\n",
              "    .dataframe tbody tr th {\n",
              "        vertical-align: top;\n",
              "    }\n",
              "\n",
              "    .dataframe thead th {\n",
              "        text-align: right;\n",
              "    }\n",
              "</style>\n",
              "<table border=\"1\" class=\"dataframe\">\n",
              "  <thead>\n",
              "    <tr style=\"text-align: right;\">\n",
              "      <th></th>\n",
              "      <th>artist</th>\n",
              "      <th>song</th>\n",
              "      <th>lyrics</th>\n",
              "      <th>genre</th>\n",
              "    </tr>\n",
              "  </thead>\n",
              "  <tbody>\n",
              "    <tr>\n",
              "      <th>0</th>\n",
              "      <td>Sueco</td>\n",
              "      <td>Paralyzed</td>\n",
              "      <td>got big ego could see telescope way always arg...</td>\n",
              "      <td>Rock</td>\n",
              "    </tr>\n",
              "    <tr>\n",
              "      <th>1</th>\n",
              "      <td>Papa Roach</td>\n",
              "      <td>Kill The Noise</td>\n",
              "      <td>feel like channeling something kill noise love...</td>\n",
              "      <td>Rock</td>\n",
              "    </tr>\n",
              "    <tr>\n",
              "      <th>2</th>\n",
              "      <td>Mammoth WVH</td>\n",
              "      <td>Don’t Back Down</td>\n",
              "      <td>breathe madness around feelin like end days th...</td>\n",
              "      <td>Rock</td>\n",
              "    </tr>\n",
              "    <tr>\n",
              "      <th>3</th>\n",
              "      <td>Foals</td>\n",
              "      <td>Wake Me Up</td>\n",
              "      <td>wake wake walking dream walking finest place e...</td>\n",
              "      <td>Rock</td>\n",
              "    </tr>\n",
              "    <tr>\n",
              "      <th>4</th>\n",
              "      <td>Stand Atlantic</td>\n",
              "      <td>deathwish (feat. nothing,nowhere.)</td>\n",
              "      <td>make head spin god knows win know think got fu...</td>\n",
              "      <td>Rock</td>\n",
              "    </tr>\n",
              "  </tbody>\n",
              "</table>\n",
              "</div>"
            ],
            "text/plain": [
              "           artist  ... genre\n",
              "0           Sueco  ...  Rock\n",
              "1      Papa Roach  ...  Rock\n",
              "2     Mammoth WVH  ...  Rock\n",
              "3           Foals  ...  Rock\n",
              "4  Stand Atlantic  ...  Rock\n",
              "\n",
              "[5 rows x 4 columns]"
            ]
          },
          "metadata": {},
          "execution_count": 68
        }
      ]
    },
    {
      "cell_type": "code",
      "metadata": {
        "id": "syYgiBXOxJs5"
      },
      "source": [
        "from keras.preprocessing.text import Tokenizer\n",
        "from keras.preprocessing.sequence import pad_sequences"
      ],
      "execution_count": 6,
      "outputs": []
    },
    {
      "cell_type": "code",
      "metadata": {
        "colab": {
          "base_uri": "https://localhost:8080/"
        },
        "id": "UNEaFrUZwjsk",
        "outputId": "9fcb4c6c-5bca-4485-8609-c61b4e9c7ab4"
      },
      "source": [
        "# The maximum number of words to be used. (most frequent)\n",
        "MAX_NB_WORDS = 50000\n",
        "# Max number of words in each complaint.\n",
        "MAX_SEQUENCE_LENGTH = 250\n",
        "# This is fixed.\n",
        "EMBEDDING_DIM = 100\n",
        "tokenizer = Tokenizer(num_words=MAX_NB_WORDS, filters='!\"#$%&()*+,-./:;<=>?@[\\]^_`{|}~', lower=True)\n",
        "tokenizer.fit_on_texts(df['lyrics'].values)\n",
        "word_index = tokenizer.word_index\n",
        "print('Found %s unique tokens.' % len(word_index))"
      ],
      "execution_count": 7,
      "outputs": [
        {
          "output_type": "stream",
          "name": "stdout",
          "text": [
            "Found 38090 unique tokens.\n"
          ]
        }
      ]
    },
    {
      "cell_type": "code",
      "metadata": {
        "colab": {
          "base_uri": "https://localhost:8080/"
        },
        "id": "UqtokHKt0gTi",
        "outputId": "b33523b9-19bb-4838-c85d-f80d22effdce"
      },
      "source": [
        "X = tokenizer.texts_to_sequences(df['lyrics'].values)\n",
        "X = pad_sequences(X, maxlen=MAX_SEQUENCE_LENGTH)\n",
        "print('Shape of data tensor:', X.shape)"
      ],
      "execution_count": 8,
      "outputs": [
        {
          "output_type": "stream",
          "name": "stdout",
          "text": [
            "Shape of data tensor: (9495, 250)\n"
          ]
        }
      ]
    },
    {
      "cell_type": "code",
      "metadata": {
        "colab": {
          "base_uri": "https://localhost:8080/"
        },
        "id": "jPc-cq7zEgrB",
        "outputId": "677d2994-1a55-4787-c1fc-1b02c995cd60"
      },
      "source": [
        "Y = pd.get_dummies(df['genre']).values\n",
        "print('Shape of label tensor:', Y.shape)"
      ],
      "execution_count": 9,
      "outputs": [
        {
          "output_type": "stream",
          "name": "stdout",
          "text": [
            "Shape of label tensor: (9495, 9)\n"
          ]
        }
      ]
    },
    {
      "cell_type": "code",
      "metadata": {
        "colab": {
          "base_uri": "https://localhost:8080/"
        },
        "id": "89981Fm4FGR7",
        "outputId": "9f3d0536-b5d0-4267-dd64-14efe5506eee"
      },
      "source": [
        "from sklearn.model_selection import train_test_split\n",
        "\n",
        "X_train, X_test, Y_train, Y_test = train_test_split(X,Y, test_size = 0.10, random_state = 42)\n",
        "print(X_train.shape,Y_train.shape)\n",
        "print(X_test.shape,Y_test.shape)"
      ],
      "execution_count": 10,
      "outputs": [
        {
          "output_type": "stream",
          "name": "stdout",
          "text": [
            "(8545, 250) (8545, 9)\n",
            "(950, 250) (950, 9)\n"
          ]
        }
      ]
    },
    {
      "cell_type": "code",
      "metadata": {
        "id": "F7JRgEi2Fo3h"
      },
      "source": [
        "from keras import Sequential\n",
        "from keras.layers import Dense, SpatialDropout1D, LSTM, Embedding\n"
      ],
      "execution_count": 11,
      "outputs": []
    },
    {
      "cell_type": "code",
      "metadata": {
        "id": "55-Z6FvLFYi_"
      },
      "source": [
        "model = Sequential()\n",
        "model.add(Embedding(MAX_NB_WORDS, EMBEDDING_DIM, input_length=X.shape[1]))\n",
        "model.add(SpatialDropout1D(0.2))\n",
        "model.add(LSTM(100, dropout=0.2, recurrent_dropout=0.2))\n",
        "model.add(Dense(9, activation='softmax'))\n",
        "model.compile(loss='categorical_crossentropy', optimizer='adam', metrics=['accuracy'])\n",
        "\n",
        "epochs = 5\n",
        "batch_size = 64"
      ],
      "execution_count": 16,
      "outputs": []
    },
    {
      "cell_type": "code",
      "metadata": {
        "colab": {
          "base_uri": "https://localhost:8080/"
        },
        "id": "ATCSx2EHCGCj",
        "outputId": "741578f8-02e9-4272-96c7-fc1a99e58026"
      },
      "source": [
        "from keras.callbacks import EarlyStopping\n",
        "\n",
        "history = model.fit(X_train, Y_train, epochs=epochs, batch_size=batch_size,validation_split=0.1,callbacks=[EarlyStopping(monitor='val_loss', patience=3, min_delta=0.0001)])\n"
      ],
      "execution_count": 17,
      "outputs": [
        {
          "output_type": "stream",
          "name": "stdout",
          "text": [
            "Epoch 1/5\n",
            "121/121 [==============================] - 66s 521ms/step - loss: 2.0619 - accuracy: 0.2081 - val_loss: 1.9210 - val_accuracy: 0.2772\n",
            "Epoch 2/5\n",
            "121/121 [==============================] - 63s 519ms/step - loss: 1.8264 - accuracy: 0.3350 - val_loss: 1.8555 - val_accuracy: 0.3181\n",
            "Epoch 3/5\n",
            "121/121 [==============================] - 63s 521ms/step - loss: 1.5425 - accuracy: 0.4651 - val_loss: 1.7549 - val_accuracy: 0.3965\n",
            "Epoch 4/5\n",
            "121/121 [==============================] - 63s 521ms/step - loss: 1.2117 - accuracy: 0.6009 - val_loss: 1.5072 - val_accuracy: 0.4994\n",
            "Epoch 5/5\n",
            "121/121 [==============================] - 63s 521ms/step - loss: 0.8898 - accuracy: 0.7203 - val_loss: 1.5131 - val_accuracy: 0.5392\n"
          ]
        }
      ]
    },
    {
      "cell_type": "code",
      "metadata": {
        "colab": {
          "base_uri": "https://localhost:8080/"
        },
        "id": "7_BtBiyjEEI-",
        "outputId": "3ee63dac-ad92-418b-faa9-6984737b0149"
      },
      "source": [
        "accr = model.evaluate(X_test,Y_test)\n",
        "print('Test set\\n  Loss: {:0.3f}\\n  Accuracy: {:0.3f}'.format(accr[0],accr[1]))"
      ],
      "execution_count": 18,
      "outputs": [
        {
          "output_type": "stream",
          "name": "stdout",
          "text": [
            "30/30 [==============================] - 1s 48ms/step - loss: 1.5029 - accuracy: 0.5368\n",
            "Test set\n",
            "  Loss: 1.503\n",
            "  Accuracy: 0.537\n"
          ]
        }
      ]
    },
    {
      "cell_type": "code",
      "metadata": {
        "colab": {
          "base_uri": "https://localhost:8080/",
          "height": 281
        },
        "id": "qaAxfaHHEa3H",
        "outputId": "56392c2f-b282-4af1-b5cc-369e29e2dc22"
      },
      "source": [
        "from matplotlib import pyplot as plt\n",
        "\n",
        "plt.title('Loss')\n",
        "plt.plot(history.history['loss'], label='train')\n",
        "plt.plot(history.history['val_loss'], label='test')\n",
        "plt.legend()\n",
        "plt.show();"
      ],
      "execution_count": 20,
      "outputs": [
        {
          "output_type": "display_data",
          "data": {
            "image/png": "[encoded data removed]",
            "text/plain": [
              "<Figure size 432x288 with 1 Axes>"
            ]
          },
          "metadata": {
            "needs_background": "light"
          }
        }
      ]
    },
    {
      "cell_type": "code",
      "metadata": {
        "colab": {
          "base_uri": "https://localhost:8080/",
          "height": 281
        },
        "id": "QJeiY9lREvTA",
        "outputId": "8ebdfdb0-1e82-4dc9-c14f-27ac77bbd900"
      },
      "source": [
        "plt.title('Accuracy')\n",
        "plt.plot(history.history['accuracy'], label='train')\n",
        "plt.plot(history.history['val_accuracy'], label='test')\n",
        "plt.legend()\n",
        "plt.show();"
      ],
      "execution_count": 22,
      "outputs": [
        {
          "output_type": "display_data",
          "data": {
            "image/png": "[encoded data removed]",
            "text/plain": [
              "<Figure size 432x288 with 1 Axes>"
            ]
          },
          "metadata": {
            "needs_background": "light"
          }
        }
      ]
    }
  ]
}